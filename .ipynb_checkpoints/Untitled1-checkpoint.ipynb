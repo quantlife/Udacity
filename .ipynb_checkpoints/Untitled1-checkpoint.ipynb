{
 "cells": [
  {
   "cell_type": "markdown",
   "metadata": {},
   "source": [
    "# Project 1: Python Data Types Practice\n",
    "## Instructions\n",
    "\n",
    "This is basic routine and it will have to be repeated every day on the dev task completion:\n",
    "* Start the VMBox and open this notebook there\n",
    "* Make a change and commit the changed notebook using GitKraken\n",
    "* Using GitKraken open the committed notebook in Win Env, make change and commit\n",
    "\n",
    "This is first practical excercise. It is important to try to code fast:\n",
    "* Get all stock indeces data from Oanda and create a pretty DF of those indeces\n",
    "* Create statistical methods map (based on the nanodegree videos) \n",
    "* Apply those stats methods to the stock indeces DF\n",
    "\n",
    "This is theoretical roadmap. Theory has to be understood and remembered: \n",
    "* Practice with all Concepts and datatypes that you have in the backlog from nanodegree and in the old files \n",
    "* Create 'physical' memory cards and practice writing code on paper to remember all those concepts\n",
    "\n",
    "Some practice execrcises for later: \n",
    "* Create script for adjusting data into the MT4\n",
    "\n"
   ]
  },
  {
   "cell_type": "code",
   "execution_count": 14,
   "metadata": {},
   "outputs": [
    {
     "ename": "ImportError",
     "evalue": "No module named barfeed",
     "output_type": "error",
     "traceback": [
      "\u001b[0;31m---------------------------------------------------------------------------\u001b[0m",
      "\u001b[0;31mImportError\u001b[0m                               Traceback (most recent call last)",
      "\u001b[0;32m<ipython-input-14-058ec0e0877e>\u001b[0m in \u001b[0;36m<module>\u001b[0;34m()\u001b[0m\n\u001b[1;32m     10\u001b[0m \u001b[0;34m\u001b[0m\u001b[0m\n\u001b[1;32m     11\u001b[0m \u001b[0;32mfrom\u001b[0m \u001b[0mpyalgotrade\u001b[0m \u001b[0;32mimport\u001b[0m \u001b[0mdb_client\u001b[0m\u001b[0;34m\u001b[0m\u001b[0;34m\u001b[0m\u001b[0m\n\u001b[0;32m---> 12\u001b[0;31m \u001b[0;32mfrom\u001b[0m \u001b[0mbarfeed\u001b[0m \u001b[0;32mimport\u001b[0m \u001b[0mExanteLiveFeed\u001b[0m\u001b[0;34m\u001b[0m\u001b[0;34m\u001b[0m\u001b[0m\n\u001b[0m\u001b[1;32m     13\u001b[0m \u001b[0;34m\u001b[0m\u001b[0m\n\u001b[1;32m     14\u001b[0m \u001b[0;32mfrom\u001b[0m \u001b[0mpyalgotrade\u001b[0m \u001b[0;32mimport\u001b[0m \u001b[0mbar\u001b[0m\u001b[0;34m\u001b[0m\u001b[0;34m\u001b[0m\u001b[0m\n",
      "\u001b[0;31mImportError\u001b[0m: No module named barfeed"
     ]
    }
   ],
   "source": [
    "import pyalgotrade\n",
    "import pandas as pd\n",
    "import matplotli# Project 1: Trading with Momentum\n",
    "## Instructions\n",
    "Each problem consists of a function to implement and instructions on how to implement the function.  The parts of the function that need to be implemented are marked with a `# TODO` comment. After implementing the function, run the cell to test it against the unit tests we've provided. For each problem, we provide one or more unit tests from our `project_tests` package. These unit tests won't tell you if your answer is correct, but will warn you of any major errors. Your code will be checked for the correct solution when you submit it to Udacity.\n",
    "b.pyplot as plt\n",
    "import numpy as np\n",
    "from scipy.stats import skew\n",
    "from scipy.stats import kurtosis\n",
    "from scipy.stats import shapiro\n",
    "\n",
    "from pyalgotrade.oanda_v20.static_feed import build_feed # this works\n",
    "\n",
    "from pyalgotrade import db_client\n",
    "from barfeed import ExanteLiveFeed  # this doesn't work\n",
    "\n",
    "from pyalgotrade import bar\n",
    "from pyalgotrade import plotter\n",
    "from pyalgotrade.stratanalyzer import sharpe\n",
    "from pyalgotrade.stratanalyzer import trade_stats\n",
    "from pyalgotrade import strategy\n",
    "from pyalgotrade.technical import ma\n",
    "from pyalgotrade.technical import cross\n",
    "import json\n",
    "\n",
    "from pyalgotrade import strategy\n",
    "from pyalgotrade.technical import ma\n",
    "from pyalgotrade.technical import cross\n",
    "\n",
    "\n",
    "\n",
    "\"\"\"\n",
    "\n",
    "#===== oanda feed creates *.scv with quotes which I use for analysis ===\n",
    "#===== I need to create similar exante feed (static) to get *scv with quotes for exante assets \n",
    "\n",
    "\n",
    "instrument = \"XAU_USD\"\n",
    "access_token = \"c494fab131dd1a479625e5b1d6acc3b9-6b097fb11c34b2cdb5d33c51f74d8091\"# \"33c818d2fbcdb83f3e58dd7f634695c8-5ecd19befd1b29cca38b5b7978423137\"\n",
    "feed = build_feed(instrument, '2010-06-20T00:00:00.0Z', '2017-07-27T00:00:00.0Z', '.', access_token=access_token, frequency=bar.Frequency.DAY, fake_volume_amount_for_every_bar=1000000)\n",
    "\n",
    "local_path = '/home/dp/Documents/15_ds_am/XAU_USD_oanda.csv'\n",
    "StockPrices = pd.read_csv(local_path, parse_dates=['Date'])\n",
    "StockPrices=StockPrices.sort_values(by='Date')\n",
    "print(StockPrices.head())\n",
    "\n",
    "StockPrices['Returns'] = StockPrices['Close'].pct_change()\n",
    "StockPrices['Returns'].plot()\n",
    "plt.show()\n",
    "print(StockPrices.head())\n",
    "\n",
    "\"\"\"\n"
   ]
  },
  {
   "cell_type": "code",
   "execution_count": 16,
   "metadata": {},
   "outputs": [
    {
     "ename": "ImportError",
     "evalue": "No module named barfeed",
     "output_type": "error",
     "traceback": [
      "\u001b[0;31m---------------------------------------------------------------------------\u001b[0m",
      "\u001b[0;31mImportError\u001b[0m                               Traceback (most recent call last)",
      "\u001b[0;32m<ipython-input-16-5ccc89421142>\u001b[0m in \u001b[0;36m<module>\u001b[0;34m()\u001b[0m\n\u001b[1;32m      4\u001b[0m \u001b[0;34m\u001b[0m\u001b[0m\n\u001b[1;32m      5\u001b[0m \u001b[0;32mfrom\u001b[0m \u001b[0mpyalgotrade\u001b[0m \u001b[0;32mimport\u001b[0m \u001b[0mdb_client\u001b[0m\u001b[0;34m\u001b[0m\u001b[0;34m\u001b[0m\u001b[0m\n\u001b[0;32m----> 6\u001b[0;31m \u001b[0;32mfrom\u001b[0m \u001b[0mbarfeed\u001b[0m \u001b[0;32mimport\u001b[0m \u001b[0mExanteLiveFeed\u001b[0m\u001b[0;34m\u001b[0m\u001b[0;34m\u001b[0m\u001b[0m\n\u001b[0m\u001b[1;32m      7\u001b[0m \u001b[0;34m\u001b[0m\u001b[0m\n\u001b[1;32m      8\u001b[0m \u001b[0;34m\u001b[0m\u001b[0m\n",
      "\u001b[0;31mImportError\u001b[0m: No module named barfeed"
     ]
    }
   ],
   "source": [
    "\n",
    "\n",
    "from pyalgotrade.oanda_v20.static_feed import build_feed\n",
    "\n",
    "from pyalgotrade import db_client\n",
    "from barfeed import ExanteLiveFeed\n",
    "\n",
    "\n",
    "#instrument = \"XAU_USD\"\n",
    "#access_token = \"c494fab131dd1a479625e5b1d6acc3b9-6b097fb11c34b2cdb5d33c51f74d8091\"# \"33c818d2fbcdb83f3e58dd7f634695c8-5ecd19befd1b29cca38b5b7978423137\"\n",
    "#feed = build_feed(instrument, '2010-06-20T00:00:00.0Z', '2017-07-27T00:00:00.0Z', '.', access_token=access_token, frequency=bar.Frequency.DAY, fake_volume_amount_for_every_bar=1000000)\n",
    "#instrument = \"EUR_USD\"\n",
    "#feed = build_feed(instrument, '2017-06-20T00:00:00.0Z', '2017-07-27T00:00:00.0Z', '.', access_token=access_token, frequency=bar.Frequency.HOUR, fake_volume_amount_for_every_bar=1000000)\n",
    "\n",
    "\n",
    "\"\"\"\n",
    "\n",
    "\n",
    "instrument = \"EBTC.NASDAQ\"\n",
    "\n",
    "account_id = \"XDQ8240.001\"\n",
    "app_id = \"63ebd4a9-e6ce-40a3-9553-0047828e10fa\"\n",
    "client_id = \"698b1ad6-be9a-48ed-90eb-0ff175d2b45e\"\n",
    "access_key = \"pxMXSoKipq73V5gLqTbR\"\n",
    "\n",
    "\n",
    "\n",
    "\n",
    "\n",
    "local_path = '/home/dp/Documents/15_ds_am/XAU_USD_oanda.csv'\n",
    "StockPrices = pd.read_csv(local_path, parse_dates=['Date'])\n",
    "StockPrices=StockPrices.sort_values(by='Date')\n",
    "print(StockPrices.head())\n",
    "\n",
    "StockPrices['Returns'] = StockPrices['Close'].pct_change()\n",
    "StockPrices['Returns'].plot()\n",
    "plt.show()\n",
    "print(StockPrices.head())\n",
    "\n",
    "\n",
    "\n",
    "\n",
    "app_id = \"63ebd4a9-e6ce-40a3-9553-0047828e10fa\"\n",
    "access_key = \"pxMXSoKipq73V5gLqTbR\"\n",
    "exante = ExanteMarketData(app_id, access_key=access_key)\n",
    "resp = exante.ohlc(\"GBP/USD.E.FX\", 3600, {\"size\": 500})\n",
    "\n",
    "\n",
    "\"\"\"\n"
   ]
  },
  {
   "cell_type": "code",
   "execution_count": null,
   "metadata": {},
   "outputs": [],
   "source": []
  },
  {
   "cell_type": "code",
   "execution_count": 22,
   "metadata": {},
   "outputs": [
    {
     "name": "stdout",
     "output_type": "stream",
     "text": [
      "                       Date     Open      High       Low    Close   Volume\n",
      "0 2010-06-21 00:00:00+00:00  1257.21  1265.265  1230.760  1233.73  1000000\n",
      "1 2010-06-22 00:00:00+00:00  1233.69  1242.860  1232.110  1240.06  1000000\n",
      "2 2010-06-23 00:00:00+00:00  1240.00  1246.485  1224.835  1237.39  1000000\n",
      "3 2010-06-24 00:00:00+00:00  1237.44  1248.530  1227.830  1243.44  1000000\n",
      "4 2010-06-25 00:00:00+00:00  1243.40  1258.410  1241.090  1255.67  1000000\n"
     ]
    },
    {
     "data": {
      "image/png": "[encoded data removed]",
      "text/plain": [
       "<Figure size 432x288 with 1 Axes>"
      ]
     },
     "metadata": {
      "needs_background": "light"
     },
     "output_type": "display_data"
    },
    {
     "name": "stdout",
     "output_type": "stream",
     "text": [
      "                       Date     Open      High       Low    Close   Volume  \\\n",
      "0 2010-06-21 00:00:00+00:00  1257.21  1265.265  1230.760  1233.73  1000000   \n",
      "1 2010-06-22 00:00:00+00:00  1233.69  1242.860  1232.110  1240.06  1000000   \n",
      "2 2010-06-23 00:00:00+00:00  1240.00  1246.485  1224.835  1237.39  1000000   \n",
      "3 2010-06-24 00:00:00+00:00  1237.44  1248.530  1227.830  1243.44  1000000   \n",
      "4 2010-06-25 00:00:00+00:00  1243.40  1258.410  1241.090  1255.67  1000000   \n",
      "\n",
      "    Returns  \n",
      "0       NaN  \n",
      "1  0.005131  \n",
      "2 -0.002153  \n",
      "3  0.004889  \n",
      "4  0.009836  \n"
     ]
    },
    {
     "data": {
      "image/png": "[encoded data removed]",
      "text/plain": [
       "<Figure size 432x288 with 1 Axes>"
      ]
     },
     "metadata": {
      "needs_background": "light"
     },
     "output_type": "display_data"
    },
    {
     "name": "stdout",
     "output_type": "stream",
     "text": [
      "mean daily:5.767419216563867e-05\n",
      "annual mean:0.014639601804048663\n",
      "sigma daily:0.009731055280766426\n",
      "variance daily:9.469343687733216e-05\n"
     ]
    }
   ],
   "source": [
    "import pyalgotrade\n",
    "import pandas as pd\n",
    "import matplotlib.pyplot as plt\n",
    "import numpy as np\n",
    "from scipy.stats import skew\n",
    "from scipy.stats import kurtosis\n",
    "from scipy.stats import shapiro\n",
    "\n",
    "from pyalgotrade.oanda_v20.static_feed import build_feed # this works\n",
    "\n",
    "from pyalgotrade import bar\n",
    "from pyalgotrade import plotter\n",
    "from pyalgotrade.stratanalyzer import sharpe\n",
    "from pyalgotrade.stratanalyzer import trade_stats\n",
    "from pyalgotrade import strategy\n",
    "from pyalgotrade.technical import ma\n",
    "from pyalgotrade.technical import cross\n",
    "import json\n",
    "\n",
    "from pyalgotrade import strategy\n",
    "from pyalgotrade.technical import ma\n",
    "from pyalgotrade.technical import cross\n",
    "\n",
    "\n",
    "\n",
    "#instrument = \"XAU_USD\"\n",
    "#access_token = \"c494fab131dd1a479625e5b1d6acc3b9-6b097fb11c34b2cdb5d33c51f74d8091\"# \"33c818d2fbcdb83f3e58dd7f634695c8-5ecd19befd1b29cca38b5b7978423137\"\n",
    "#feed = build_feed(instrument, '2010-06-20T00:00:00.0Z', '2019-08-27T00:00:00.0Z', '.', access_token=access_token, frequency=bar.Frequency.DAY, fake_volume_amount_for_every_bar=1000000)\n",
    "\n",
    "\n",
    "#instrument = \"XAG_USD\"\n",
    "#access_token = \"c494fab131dd1a479625e5b1d6acc3b9-6b097fb11c34b2cdb5d33c51f74d8091\"# \"33c818d2fbcdb83f3e58dd7f634695c8-5ecd19befd1b29cca38b5b7978423137\"\n",
    "#feed = build_feed(instrument, '2010-06-20T00:00:00.0Z', '2019-08-27T00:00:00.0Z', '.', access_token=access_token, frequency=bar.Frequency.DAY, fake_volume_amount_for_every_bar=1000000)\n",
    "\n",
    "\n",
    "#instrument = \"XAG_USD\"\n",
    "#access_token = \"c494fab131dd1a479625e5b1d6acc3b9-6b097fb11c34b2cdb5d33c51f74d8091\"# \"33c818d2fbcdb83f3e58dd7f634695c8-5ecd19befd1b29cca38b5b7978423137\"\n",
    "#feed = build_feed(instrument, '2010-06-20T00:00:00.0Z', '2019-08-27T00:00:00.0Z', '.', access_token=access_token, frequency=bar.Frequency.DAY, fake_volume_amount_for_every_bar=1000000)\n",
    "\n",
    "\n",
    "\n",
    "local_path = '/home/dp/Documents/15_ds_am/XAU_USD_oanda.csv'\n",
    "StockPrices = pd.read_csv(local_path, parse_dates=['Date'])\n",
    "StockPrices=StockPrices.sort_values(by='Date')\n",
    "print(StockPrices.head())\n",
    "\n",
    "StockPrices['Returns'] = StockPrices['Close'].pct_change()\n",
    "StockPrices['Returns'].plot()\n",
    "plt.show()\n",
    "print(StockPrices.head())\n",
    "percent_return = StockPrices['Returns']*100\n",
    "returns_plot = percent_return.dropna()\n",
    "plt.hist(returns_plot, bins=75)\n",
    "plt.show()\n",
    "\n",
    "mean_return_daily = np.mean(StockPrices['Returns'])\n",
    "mean_return_annualized = ((1+mean_return_daily)**252-1)\n",
    "print('mean daily:' + str(mean_return_daily))\n",
    "print('annual mean:' + str(mean_return_annualized))\n",
    "\n",
    "sigma_daily = np.std(StockPrices['Returns'])\n",
    "variance_daily = sigma_daily**2\n",
    "print('sigma daily:' + str(sigma_daily))\n",
    "print('variance daily:' + str(variance_daily))\n"
   ]
  },
  {
   "cell_type": "code",
   "execution_count": null,
   "metadata": {},
   "outputs": [],
   "source": []
  }
 ],
 "metadata": {
  "kernelspec": {
   "display_name": "Python 2",
   "language": "python",
   "name": "python2"
  },
  "language_info": {
   "codemirror_mode": {
    "name": "ipython",
    "version": 2
   },
   "file_extension": ".py",
   "mimetype": "text/x-python",
   "name": "python",
   "nbconvert_exporter": "python",
   "pygments_lexer": "ipython2",
   "version": "2.7.15+"
  }
 },
 "nbformat": 4,
 "nbformat_minor": 2
}
